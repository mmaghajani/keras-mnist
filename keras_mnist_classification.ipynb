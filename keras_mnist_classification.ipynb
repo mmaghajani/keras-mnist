{
  "nbformat": 4,
  "nbformat_minor": 0,
  "metadata": {
    "colab": {
      "name": "keras-mnist-classification.ipynb",
      "provenance": [],
      "collapsed_sections": []
    },
    "kernelspec": {
      "name": "python3",
      "display_name": "Python 3"
    },
    "accelerator": "GPU"
  },
  "cells": [
    {
      "cell_type": "code",
      "metadata": {
        "id": "XWk9LgM6cE36",
        "colab_type": "code",
        "colab": {}
      },
      "source": [
        "import tensorflow as tf\n",
        "from tensorflow import keras"
      ],
      "execution_count": 1,
      "outputs": []
    },
    {
      "cell_type": "code",
      "metadata": {
        "id": "PHDfMXTzcrwf",
        "colab_type": "code",
        "colab": {
          "base_uri": "https://localhost:8080/",
          "height": 35
        },
        "outputId": "31efef9c-1b4f-4dce-8b0c-f226c23f6b62"
      },
      "source": [
        "tf.__version__"
      ],
      "execution_count": 2,
      "outputs": [
        {
          "output_type": "execute_result",
          "data": {
            "application/vnd.google.colaboratory.intrinsic": {
              "type": "string"
            },
            "text/plain": [
              "'2.2.0'"
            ]
          },
          "metadata": {
            "tags": []
          },
          "execution_count": 2
        }
      ]
    },
    {
      "cell_type": "code",
      "metadata": {
        "id": "8js__MCjdGL4",
        "colab_type": "code",
        "colab": {
          "base_uri": "https://localhost:8080/",
          "height": 35
        },
        "outputId": "ce50c894-182b-4cf3-a027-628016a93180"
      },
      "source": [
        "keras.__version__"
      ],
      "execution_count": 3,
      "outputs": [
        {
          "output_type": "execute_result",
          "data": {
            "application/vnd.google.colaboratory.intrinsic": {
              "type": "string"
            },
            "text/plain": [
              "'2.3.0-tf'"
            ]
          },
          "metadata": {
            "tags": []
          },
          "execution_count": 3
        }
      ]
    },
    {
      "cell_type": "code",
      "metadata": {
        "id": "U6ek08H5dRi-",
        "colab_type": "code",
        "colab": {
          "base_uri": "https://localhost:8080/",
          "height": 153
        },
        "outputId": "fbdeee56-fe7b-4bdb-9860-93596c29e43c"
      },
      "source": [
        "fashion_mnist = keras.datasets.fashion_mnist\n",
        "(x_train, y_train), (x_test, y_test) = fashion_mnist.load_data()"
      ],
      "execution_count": 4,
      "outputs": [
        {
          "output_type": "stream",
          "text": [
            "Downloading data from https://storage.googleapis.com/tensorflow/tf-keras-datasets/train-labels-idx1-ubyte.gz\n",
            "32768/29515 [=================================] - 0s 0us/step\n",
            "Downloading data from https://storage.googleapis.com/tensorflow/tf-keras-datasets/train-images-idx3-ubyte.gz\n",
            "26427392/26421880 [==============================] - 0s 0us/step\n",
            "Downloading data from https://storage.googleapis.com/tensorflow/tf-keras-datasets/t10k-labels-idx1-ubyte.gz\n",
            "8192/5148 [===============================================] - 0s 0us/step\n",
            "Downloading data from https://storage.googleapis.com/tensorflow/tf-keras-datasets/t10k-images-idx3-ubyte.gz\n",
            "4423680/4422102 [==============================] - 0s 0us/step\n"
          ],
          "name": "stdout"
        }
      ]
    },
    {
      "cell_type": "code",
      "metadata": {
        "id": "GdFTCTAjeeFS",
        "colab_type": "code",
        "colab": {
          "base_uri": "https://localhost:8080/",
          "height": 34
        },
        "outputId": "06a6da15-97a9-48d1-89db-21d5cba2c124"
      },
      "source": [
        "x_train.shape"
      ],
      "execution_count": 5,
      "outputs": [
        {
          "output_type": "execute_result",
          "data": {
            "text/plain": [
              "(60000, 28, 28)"
            ]
          },
          "metadata": {
            "tags": []
          },
          "execution_count": 5
        }
      ]
    },
    {
      "cell_type": "code",
      "metadata": {
        "id": "wjt-cDP7e59I",
        "colab_type": "code",
        "colab": {}
      },
      "source": [
        "x_valid, x_train = x_train[:5000] / 255.0, x_train[5000:] / 255.0\n",
        "y_valid, y_train = y_train[:5000], y_train[5000:]"
      ],
      "execution_count": 6,
      "outputs": []
    },
    {
      "cell_type": "code",
      "metadata": {
        "id": "79aLzvVKl-dy",
        "colab_type": "code",
        "colab": {
          "base_uri": "https://localhost:8080/",
          "height": 35
        },
        "outputId": "fd95674c-a7b3-4711-8a27-b88fa00a8921"
      },
      "source": [
        "class_names = ['T-shirt?top', 'Trouser', 'Pullover', 'Dress', 'Coat', 'Sandal', 'Shirt', 'Sneaker', 'Bag', 'Ankle Boot']\n",
        "class_names[y_train[0]]"
      ],
      "execution_count": 7,
      "outputs": [
        {
          "output_type": "execute_result",
          "data": {
            "application/vnd.google.colaboratory.intrinsic": {
              "type": "string"
            },
            "text/plain": [
              "'Coat'"
            ]
          },
          "metadata": {
            "tags": []
          },
          "execution_count": 7
        }
      ]
    },
    {
      "cell_type": "code",
      "metadata": {
        "id": "Ay4FUqOMPv7L",
        "colab_type": "code",
        "colab": {}
      },
      "source": [
        "model = keras.models.Sequential([\n",
        "      keras.layers.Flatten(input_shape=[28,28]),\n",
        "      keras.layers.Dense(300, activation='relu'),\n",
        "      keras.layers.Dense(100, activation='relu'),\n",
        "      keras.layers.Dense(10, activation='softmax')\n",
        "])"
      ],
      "execution_count": 8,
      "outputs": []
    },
    {
      "cell_type": "code",
      "metadata": {
        "id": "ppAwMtysR_qp",
        "colab_type": "code",
        "colab": {
          "base_uri": "https://localhost:8080/",
          "height": 289
        },
        "outputId": "dc02e51b-ecb7-487e-a987-ec49bf3f973c"
      },
      "source": [
        "model.summary()"
      ],
      "execution_count": 9,
      "outputs": [
        {
          "output_type": "stream",
          "text": [
            "Model: \"sequential\"\n",
            "_________________________________________________________________\n",
            "Layer (type)                 Output Shape              Param #   \n",
            "=================================================================\n",
            "flatten (Flatten)            (None, 784)               0         \n",
            "_________________________________________________________________\n",
            "dense (Dense)                (None, 300)               235500    \n",
            "_________________________________________________________________\n",
            "dense_1 (Dense)              (None, 100)               30100     \n",
            "_________________________________________________________________\n",
            "dense_2 (Dense)              (None, 10)                1010      \n",
            "=================================================================\n",
            "Total params: 266,610\n",
            "Trainable params: 266,610\n",
            "Non-trainable params: 0\n",
            "_________________________________________________________________\n"
          ],
          "name": "stdout"
        }
      ]
    },
    {
      "cell_type": "code",
      "metadata": {
        "id": "YzDehCecSv9A",
        "colab_type": "code",
        "colab": {
          "base_uri": "https://localhost:8080/",
          "height": 85
        },
        "outputId": "7e5175f0-1660-45e4-91a9-2e866c0e670e"
      },
      "source": [
        "model.layers"
      ],
      "execution_count": 10,
      "outputs": [
        {
          "output_type": "execute_result",
          "data": {
            "text/plain": [
              "[<tensorflow.python.keras.layers.core.Flatten at 0x7f1608e6ce48>,\n",
              " <tensorflow.python.keras.layers.core.Dense at 0x7f15c71450b8>,\n",
              " <tensorflow.python.keras.layers.core.Dense at 0x7f15c7145320>,\n",
              " <tensorflow.python.keras.layers.core.Dense at 0x7f15c7145588>]"
            ]
          },
          "metadata": {
            "tags": []
          },
          "execution_count": 10
        }
      ]
    },
    {
      "cell_type": "code",
      "metadata": {
        "id": "EOseIYLJTMkX",
        "colab_type": "code",
        "colab": {}
      },
      "source": [
        "hidden1 = model.layers[1]\n",
        "weights, biases = hidden1.get_weights()"
      ],
      "execution_count": 11,
      "outputs": []
    },
    {
      "cell_type": "code",
      "metadata": {
        "id": "4gO9DnfCTejH",
        "colab_type": "code",
        "colab": {
          "base_uri": "https://localhost:8080/",
          "height": 34
        },
        "outputId": "092eca33-ef12-441a-b427-197ec10cc906"
      },
      "source": [
        "weights.shape"
      ],
      "execution_count": 12,
      "outputs": [
        {
          "output_type": "execute_result",
          "data": {
            "text/plain": [
              "(784, 300)"
            ]
          },
          "metadata": {
            "tags": []
          },
          "execution_count": 12
        }
      ]
    },
    {
      "cell_type": "code",
      "metadata": {
        "id": "MqLfCenMTr93",
        "colab_type": "code",
        "colab": {
          "base_uri": "https://localhost:8080/",
          "height": 323
        },
        "outputId": "51ea203a-dc5c-4dd0-8b4d-48b8f100ec37"
      },
      "source": [
        "biases"
      ],
      "execution_count": 13,
      "outputs": [
        {
          "output_type": "execute_result",
          "data": {
            "text/plain": [
              "array([0., 0., 0., 0., 0., 0., 0., 0., 0., 0., 0., 0., 0., 0., 0., 0., 0.,\n",
              "       0., 0., 0., 0., 0., 0., 0., 0., 0., 0., 0., 0., 0., 0., 0., 0., 0.,\n",
              "       0., 0., 0., 0., 0., 0., 0., 0., 0., 0., 0., 0., 0., 0., 0., 0., 0.,\n",
              "       0., 0., 0., 0., 0., 0., 0., 0., 0., 0., 0., 0., 0., 0., 0., 0., 0.,\n",
              "       0., 0., 0., 0., 0., 0., 0., 0., 0., 0., 0., 0., 0., 0., 0., 0., 0.,\n",
              "       0., 0., 0., 0., 0., 0., 0., 0., 0., 0., 0., 0., 0., 0., 0., 0., 0.,\n",
              "       0., 0., 0., 0., 0., 0., 0., 0., 0., 0., 0., 0., 0., 0., 0., 0., 0.,\n",
              "       0., 0., 0., 0., 0., 0., 0., 0., 0., 0., 0., 0., 0., 0., 0., 0., 0.,\n",
              "       0., 0., 0., 0., 0., 0., 0., 0., 0., 0., 0., 0., 0., 0., 0., 0., 0.,\n",
              "       0., 0., 0., 0., 0., 0., 0., 0., 0., 0., 0., 0., 0., 0., 0., 0., 0.,\n",
              "       0., 0., 0., 0., 0., 0., 0., 0., 0., 0., 0., 0., 0., 0., 0., 0., 0.,\n",
              "       0., 0., 0., 0., 0., 0., 0., 0., 0., 0., 0., 0., 0., 0., 0., 0., 0.,\n",
              "       0., 0., 0., 0., 0., 0., 0., 0., 0., 0., 0., 0., 0., 0., 0., 0., 0.,\n",
              "       0., 0., 0., 0., 0., 0., 0., 0., 0., 0., 0., 0., 0., 0., 0., 0., 0.,\n",
              "       0., 0., 0., 0., 0., 0., 0., 0., 0., 0., 0., 0., 0., 0., 0., 0., 0.,\n",
              "       0., 0., 0., 0., 0., 0., 0., 0., 0., 0., 0., 0., 0., 0., 0., 0., 0.,\n",
              "       0., 0., 0., 0., 0., 0., 0., 0., 0., 0., 0., 0., 0., 0., 0., 0., 0.,\n",
              "       0., 0., 0., 0., 0., 0., 0., 0., 0., 0., 0.], dtype=float32)"
            ]
          },
          "metadata": {
            "tags": []
          },
          "execution_count": 13
        }
      ]
    },
    {
      "cell_type": "code",
      "metadata": {
        "id": "2jAMXjfVT7Nu",
        "colab_type": "code",
        "colab": {
          "base_uri": "https://localhost:8080/",
          "height": 238
        },
        "outputId": "3dea4fa0-01fa-455a-8cd0-997feea226ec"
      },
      "source": [
        "weights"
      ],
      "execution_count": 14,
      "outputs": [
        {
          "output_type": "execute_result",
          "data": {
            "text/plain": [
              "array([[ 0.00886969,  0.00287732, -0.07069585, ..., -0.01416587,\n",
              "        -0.04353247, -0.00365838],\n",
              "       [ 0.0544468 , -0.05339578, -0.04245731, ...,  0.03659278,\n",
              "         0.0606517 , -0.00400972],\n",
              "       [ 0.06690048,  0.00326054, -0.01309655, ...,  0.00107963,\n",
              "         0.06072859,  0.0434777 ],\n",
              "       ...,\n",
              "       [ 0.00872032,  0.00693405, -0.04008198, ..., -0.02668055,\n",
              "         0.0397388 , -0.05677897],\n",
              "       [-0.02690158, -0.02475772, -0.02403016, ...,  0.01958195,\n",
              "        -0.00804368, -0.07386411],\n",
              "       [ 0.01663513, -0.05353361,  0.0394589 , ...,  0.01767834,\n",
              "         0.06329077, -0.02135336]], dtype=float32)"
            ]
          },
          "metadata": {
            "tags": []
          },
          "execution_count": 14
        }
      ]
    },
    {
      "cell_type": "code",
      "metadata": {
        "id": "ZR4WRAP2T8Yf",
        "colab_type": "code",
        "colab": {}
      },
      "source": [
        "model.compile(loss=keras.losses.sparse_categorical_crossentropy,\n",
        "              optimizer=keras.optimizers.SGD(),\n",
        "              metrics=[keras.metrics.sparse_categorical_accuracy])"
      ],
      "execution_count": 15,
      "outputs": []
    },
    {
      "cell_type": "code",
      "metadata": {
        "id": "CDq_ngRbV0nr",
        "colab_type": "code",
        "colab": {
          "base_uri": "https://localhost:8080/",
          "height": 1000
        },
        "outputId": "3c1c429a-bd1a-4fc6-9ec2-7c6aaf3f1dd0"
      },
      "source": [
        "history = model.fit(x_train, y_train, epochs=30, validation_data=(x_valid, y_valid))"
      ],
      "execution_count": 16,
      "outputs": [
        {
          "output_type": "stream",
          "text": [
            "Epoch 1/30\n",
            "1719/1719 [==============================] - 4s 2ms/step - loss: 0.7214 - sparse_categorical_accuracy: 0.7654 - val_loss: 0.5154 - val_sparse_categorical_accuracy: 0.8236\n",
            "Epoch 2/30\n",
            "1719/1719 [==============================] - 4s 2ms/step - loss: 0.4887 - sparse_categorical_accuracy: 0.8305 - val_loss: 0.4400 - val_sparse_categorical_accuracy: 0.8494\n",
            "Epoch 3/30\n",
            "1719/1719 [==============================] - 4s 2ms/step - loss: 0.4428 - sparse_categorical_accuracy: 0.8455 - val_loss: 0.4166 - val_sparse_categorical_accuracy: 0.8578\n",
            "Epoch 4/30\n",
            "1719/1719 [==============================] - 4s 2ms/step - loss: 0.4156 - sparse_categorical_accuracy: 0.8553 - val_loss: 0.3988 - val_sparse_categorical_accuracy: 0.8632\n",
            "Epoch 5/30\n",
            "1719/1719 [==============================] - 4s 2ms/step - loss: 0.3957 - sparse_categorical_accuracy: 0.8616 - val_loss: 0.3820 - val_sparse_categorical_accuracy: 0.8718\n",
            "Epoch 6/30\n",
            "1719/1719 [==============================] - 4s 2ms/step - loss: 0.3795 - sparse_categorical_accuracy: 0.8666 - val_loss: 0.3651 - val_sparse_categorical_accuracy: 0.8734\n",
            "Epoch 7/30\n",
            "1719/1719 [==============================] - 4s 2ms/step - loss: 0.3650 - sparse_categorical_accuracy: 0.8715 - val_loss: 0.3589 - val_sparse_categorical_accuracy: 0.8750\n",
            "Epoch 8/30\n",
            "1719/1719 [==============================] - 4s 2ms/step - loss: 0.3548 - sparse_categorical_accuracy: 0.8733 - val_loss: 0.3523 - val_sparse_categorical_accuracy: 0.8788\n",
            "Epoch 9/30\n",
            "1719/1719 [==============================] - 4s 2ms/step - loss: 0.3439 - sparse_categorical_accuracy: 0.8771 - val_loss: 0.3452 - val_sparse_categorical_accuracy: 0.8764\n",
            "Epoch 10/30\n",
            "1719/1719 [==============================] - 4s 2ms/step - loss: 0.3349 - sparse_categorical_accuracy: 0.8810 - val_loss: 0.3487 - val_sparse_categorical_accuracy: 0.8798\n",
            "Epoch 11/30\n",
            "1719/1719 [==============================] - 4s 2ms/step - loss: 0.3265 - sparse_categorical_accuracy: 0.8828 - val_loss: 0.3444 - val_sparse_categorical_accuracy: 0.8784\n",
            "Epoch 12/30\n",
            "1719/1719 [==============================] - 4s 2ms/step - loss: 0.3190 - sparse_categorical_accuracy: 0.8856 - val_loss: 0.3380 - val_sparse_categorical_accuracy: 0.8820\n",
            "Epoch 13/30\n",
            "1719/1719 [==============================] - 4s 2ms/step - loss: 0.3117 - sparse_categorical_accuracy: 0.8878 - val_loss: 0.3277 - val_sparse_categorical_accuracy: 0.8844\n",
            "Epoch 14/30\n",
            "1719/1719 [==============================] - 4s 2ms/step - loss: 0.3045 - sparse_categorical_accuracy: 0.8902 - val_loss: 0.3389 - val_sparse_categorical_accuracy: 0.8776\n",
            "Epoch 15/30\n",
            "1719/1719 [==============================] - 4s 2ms/step - loss: 0.2982 - sparse_categorical_accuracy: 0.8913 - val_loss: 0.3320 - val_sparse_categorical_accuracy: 0.8838\n",
            "Epoch 16/30\n",
            "1719/1719 [==============================] - 4s 2ms/step - loss: 0.2920 - sparse_categorical_accuracy: 0.8952 - val_loss: 0.3311 - val_sparse_categorical_accuracy: 0.8840\n",
            "Epoch 17/30\n",
            "1719/1719 [==============================] - 4s 2ms/step - loss: 0.2862 - sparse_categorical_accuracy: 0.8965 - val_loss: 0.3278 - val_sparse_categorical_accuracy: 0.8838\n",
            "Epoch 18/30\n",
            "1719/1719 [==============================] - 4s 2ms/step - loss: 0.2806 - sparse_categorical_accuracy: 0.8986 - val_loss: 0.3083 - val_sparse_categorical_accuracy: 0.8890\n",
            "Epoch 19/30\n",
            "1719/1719 [==============================] - 4s 2ms/step - loss: 0.2759 - sparse_categorical_accuracy: 0.9007 - val_loss: 0.3211 - val_sparse_categorical_accuracy: 0.8882\n",
            "Epoch 20/30\n",
            "1719/1719 [==============================] - 4s 2ms/step - loss: 0.2703 - sparse_categorical_accuracy: 0.9019 - val_loss: 0.3101 - val_sparse_categorical_accuracy: 0.8892\n",
            "Epoch 21/30\n",
            "1719/1719 [==============================] - 4s 2ms/step - loss: 0.2644 - sparse_categorical_accuracy: 0.9051 - val_loss: 0.3167 - val_sparse_categorical_accuracy: 0.8868\n",
            "Epoch 22/30\n",
            "1719/1719 [==============================] - 4s 2ms/step - loss: 0.2606 - sparse_categorical_accuracy: 0.9063 - val_loss: 0.3134 - val_sparse_categorical_accuracy: 0.8922\n",
            "Epoch 23/30\n",
            "1719/1719 [==============================] - 4s 2ms/step - loss: 0.2553 - sparse_categorical_accuracy: 0.9078 - val_loss: 0.3208 - val_sparse_categorical_accuracy: 0.8844\n",
            "Epoch 24/30\n",
            "1719/1719 [==============================] - 4s 2ms/step - loss: 0.2517 - sparse_categorical_accuracy: 0.9089 - val_loss: 0.3027 - val_sparse_categorical_accuracy: 0.8914\n",
            "Epoch 25/30\n",
            "1719/1719 [==============================] - 4s 2ms/step - loss: 0.2471 - sparse_categorical_accuracy: 0.9110 - val_loss: 0.3034 - val_sparse_categorical_accuracy: 0.8920\n",
            "Epoch 26/30\n",
            "1719/1719 [==============================] - 4s 2ms/step - loss: 0.2426 - sparse_categorical_accuracy: 0.9125 - val_loss: 0.2965 - val_sparse_categorical_accuracy: 0.8918\n",
            "Epoch 27/30\n",
            "1719/1719 [==============================] - 4s 2ms/step - loss: 0.2386 - sparse_categorical_accuracy: 0.9130 - val_loss: 0.3128 - val_sparse_categorical_accuracy: 0.8882\n",
            "Epoch 28/30\n",
            "1719/1719 [==============================] - 4s 2ms/step - loss: 0.2348 - sparse_categorical_accuracy: 0.9155 - val_loss: 0.3029 - val_sparse_categorical_accuracy: 0.8924\n",
            "Epoch 29/30\n",
            "1719/1719 [==============================] - 4s 2ms/step - loss: 0.2320 - sparse_categorical_accuracy: 0.9159 - val_loss: 0.3020 - val_sparse_categorical_accuracy: 0.8916\n",
            "Epoch 30/30\n",
            "1719/1719 [==============================] - 4s 2ms/step - loss: 0.2270 - sparse_categorical_accuracy: 0.9180 - val_loss: 0.2884 - val_sparse_categorical_accuracy: 0.8996\n"
          ],
          "name": "stdout"
        }
      ]
    },
    {
      "cell_type": "code",
      "metadata": {
        "id": "d8ZlSFDEWKTY",
        "colab_type": "code",
        "colab": {
          "base_uri": "https://localhost:8080/",
          "height": 34
        },
        "outputId": "5cc2c139-4366-4b92-9e37-3f26bce14565"
      },
      "source": [
        "history.params"
      ],
      "execution_count": 17,
      "outputs": [
        {
          "output_type": "execute_result",
          "data": {
            "text/plain": [
              "{'epochs': 30, 'steps': 1719, 'verbose': 1}"
            ]
          },
          "metadata": {
            "tags": []
          },
          "execution_count": 17
        }
      ]
    },
    {
      "cell_type": "code",
      "metadata": {
        "id": "DvbQYeXEXqeH",
        "colab_type": "code",
        "colab": {
          "base_uri": "https://localhost:8080/",
          "height": 527
        },
        "outputId": "288f8b11-d855-4e7d-fefe-b22b84827637"
      },
      "source": [
        "history.epoch"
      ],
      "execution_count": 18,
      "outputs": [
        {
          "output_type": "execute_result",
          "data": {
            "text/plain": [
              "[0,\n",
              " 1,\n",
              " 2,\n",
              " 3,\n",
              " 4,\n",
              " 5,\n",
              " 6,\n",
              " 7,\n",
              " 8,\n",
              " 9,\n",
              " 10,\n",
              " 11,\n",
              " 12,\n",
              " 13,\n",
              " 14,\n",
              " 15,\n",
              " 16,\n",
              " 17,\n",
              " 18,\n",
              " 19,\n",
              " 20,\n",
              " 21,\n",
              " 22,\n",
              " 23,\n",
              " 24,\n",
              " 25,\n",
              " 26,\n",
              " 27,\n",
              " 28,\n",
              " 29]"
            ]
          },
          "metadata": {
            "tags": []
          },
          "execution_count": 18
        }
      ]
    },
    {
      "cell_type": "code",
      "metadata": {
        "id": "mUpK3MsrX1sP",
        "colab_type": "code",
        "colab": {
          "base_uri": "https://localhost:8080/",
          "height": 1000
        },
        "outputId": "9716e8b3-cc6b-4507-8784-65689713bedd"
      },
      "source": [
        "history.history"
      ],
      "execution_count": 19,
      "outputs": [
        {
          "output_type": "execute_result",
          "data": {
            "text/plain": [
              "{'loss': [0.7213501334190369,\n",
              "  0.48871681094169617,\n",
              "  0.44283327460289,\n",
              "  0.4156033396720886,\n",
              "  0.39565351605415344,\n",
              "  0.37950870394706726,\n",
              "  0.3650378882884979,\n",
              "  0.35484400391578674,\n",
              "  0.34392791986465454,\n",
              "  0.3349229097366333,\n",
              "  0.3265354633331299,\n",
              "  0.3189743459224701,\n",
              "  0.31174370646476746,\n",
              "  0.3044811487197876,\n",
              "  0.2982212007045746,\n",
              "  0.29198697209358215,\n",
              "  0.286248117685318,\n",
              "  0.2805648148059845,\n",
              "  0.2758924961090088,\n",
              "  0.2703167796134949,\n",
              "  0.2643567621707916,\n",
              "  0.26058077812194824,\n",
              "  0.25527694821357727,\n",
              "  0.25174108147621155,\n",
              "  0.24714842438697815,\n",
              "  0.24261079728603363,\n",
              "  0.2385772317647934,\n",
              "  0.2348022609949112,\n",
              "  0.2319701462984085,\n",
              "  0.22703225910663605],\n",
              " 'sparse_categorical_accuracy': [0.7653818130493164,\n",
              "  0.8305090665817261,\n",
              "  0.8454909324645996,\n",
              "  0.8552545309066772,\n",
              "  0.861618161201477,\n",
              "  0.866636335849762,\n",
              "  0.8714545369148254,\n",
              "  0.8732908964157104,\n",
              "  0.8771091103553772,\n",
              "  0.8809636235237122,\n",
              "  0.8827999830245972,\n",
              "  0.8856182098388672,\n",
              "  0.8878181576728821,\n",
              "  0.8901636600494385,\n",
              "  0.8912909030914307,\n",
              "  0.8951818346977234,\n",
              "  0.8964545726776123,\n",
              "  0.8985818028450012,\n",
              "  0.9006545543670654,\n",
              "  0.9018545746803284,\n",
              "  0.9050727486610413,\n",
              "  0.9062727093696594,\n",
              "  0.907836377620697,\n",
              "  0.9089272618293762,\n",
              "  0.9109636545181274,\n",
              "  0.9125454425811768,\n",
              "  0.9129999876022339,\n",
              "  0.9155272841453552,\n",
              "  0.9159454703330994,\n",
              "  0.9180181622505188],\n",
              " 'val_loss': [0.5153723359107971,\n",
              "  0.44002431631088257,\n",
              "  0.41659852862358093,\n",
              "  0.39883559942245483,\n",
              "  0.38200026750564575,\n",
              "  0.3650999069213867,\n",
              "  0.3588831126689911,\n",
              "  0.3523123860359192,\n",
              "  0.34523048996925354,\n",
              "  0.3487491309642792,\n",
              "  0.34444063901901245,\n",
              "  0.33796757459640503,\n",
              "  0.32767733931541443,\n",
              "  0.33894094824790955,\n",
              "  0.33203449845314026,\n",
              "  0.3310500383377075,\n",
              "  0.3278381824493408,\n",
              "  0.3082561492919922,\n",
              "  0.3210766017436981,\n",
              "  0.31008654832839966,\n",
              "  0.3167087435722351,\n",
              "  0.3133546710014343,\n",
              "  0.3207947909832001,\n",
              "  0.3027406334877014,\n",
              "  0.303428590297699,\n",
              "  0.29653164744377136,\n",
              "  0.31282562017440796,\n",
              "  0.30286964774131775,\n",
              "  0.30200743675231934,\n",
              "  0.28840771317481995],\n",
              " 'val_sparse_categorical_accuracy': [0.8235999941825867,\n",
              "  0.849399983882904,\n",
              "  0.8578000068664551,\n",
              "  0.8632000088691711,\n",
              "  0.8718000054359436,\n",
              "  0.8733999729156494,\n",
              "  0.875,\n",
              "  0.8787999749183655,\n",
              "  0.8763999938964844,\n",
              "  0.879800021648407,\n",
              "  0.8784000277519226,\n",
              "  0.8820000290870667,\n",
              "  0.8844000101089478,\n",
              "  0.8776000142097473,\n",
              "  0.8838000297546387,\n",
              "  0.8840000033378601,\n",
              "  0.8838000297546387,\n",
              "  0.8889999985694885,\n",
              "  0.8881999850273132,\n",
              "  0.88919997215271,\n",
              "  0.8867999911308289,\n",
              "  0.8921999931335449,\n",
              "  0.8844000101089478,\n",
              "  0.8913999795913696,\n",
              "  0.8920000195503235,\n",
              "  0.8917999863624573,\n",
              "  0.8881999850273132,\n",
              "  0.8924000263214111,\n",
              "  0.8916000127792358,\n",
              "  0.8996000289916992]}"
            ]
          },
          "metadata": {
            "tags": []
          },
          "execution_count": 19
        }
      ]
    },
    {
      "cell_type": "code",
      "metadata": {
        "id": "7FepUgdDX3uf",
        "colab_type": "code",
        "colab": {}
      },
      "source": [
        "import pandas as pd\n",
        "import matplotlib.pyplot as plt"
      ],
      "execution_count": 20,
      "outputs": []
    },
    {
      "cell_type": "code",
      "metadata": {
        "id": "Zh09oAkaYGCP",
        "colab_type": "code",
        "colab": {
          "base_uri": "https://localhost:8080/",
          "height": 324
        },
        "outputId": "30d66a33-8498-41a9-8720-c3a4df783d79"
      },
      "source": [
        "pd.DataFrame(history.history).plot(figsize=(8, 5))\n",
        "plt.grid(True)\n",
        "plt.gca().set_ylim(0, 1)\n",
        "plt.show()"
      ],
      "execution_count": 21,
      "outputs": [
        {
          "output_type": "display_data",
          "data": {
            "image/png": "[encoded data removed]",
            "text/plain": [
              "<Figure size 576x360 with 1 Axes>"
            ]
          },
          "metadata": {
            "tags": [],
            "needs_background": "light"
          }
        }
      ]
    },
    {
      "cell_type": "code",
      "metadata": {
        "id": "csP4s_-pYX0P",
        "colab_type": "code",
        "colab": {
          "base_uri": "https://localhost:8080/",
          "height": 51
        },
        "outputId": "1e8fec5e-b6d9-4106-83ca-13734e33fe53"
      },
      "source": [
        "model.evaluate(x_test, y_test)"
      ],
      "execution_count": 22,
      "outputs": [
        {
          "output_type": "stream",
          "text": [
            "313/313 [==============================] - 1s 2ms/step - loss: 65.8136 - sparse_categorical_accuracy: 0.8453\n"
          ],
          "name": "stdout"
        },
        {
          "output_type": "execute_result",
          "data": {
            "text/plain": [
              "[65.81355285644531, 0.845300018787384]"
            ]
          },
          "metadata": {
            "tags": []
          },
          "execution_count": 22
        }
      ]
    },
    {
      "cell_type": "code",
      "metadata": {
        "id": "5tmDv2TbZPuv",
        "colab_type": "code",
        "colab": {
          "base_uri": "https://localhost:8080/",
          "height": 68
        },
        "outputId": "c11cfa28-bc41-4877-a1be-4568c45d2094"
      },
      "source": [
        "x_new = x_test[:3]\n",
        "y_probability = model.predict(x_new)\n",
        "y_probability.round(2)"
      ],
      "execution_count": 23,
      "outputs": [
        {
          "output_type": "execute_result",
          "data": {
            "text/plain": [
              "array([[0., 0., 0., 0., 0., 0., 0., 0., 0., 1.],\n",
              "       [0., 0., 1., 0., 0., 0., 0., 0., 0., 0.],\n",
              "       [0., 1., 0., 0., 0., 0., 0., 0., 0., 0.]], dtype=float32)"
            ]
          },
          "metadata": {
            "tags": []
          },
          "execution_count": 23
        }
      ]
    },
    {
      "cell_type": "code",
      "metadata": {
        "id": "HURk-kGBaBdH",
        "colab_type": "code",
        "colab": {
          "base_uri": "https://localhost:8080/",
          "height": 105
        },
        "outputId": "8200dcaf-7b1b-4ce2-cf39-3d502117b504"
      },
      "source": [
        "model.predict_classes(x_new)"
      ],
      "execution_count": 24,
      "outputs": [
        {
          "output_type": "stream",
          "text": [
            "WARNING:tensorflow:From <ipython-input-24-041152114ca8>:1: Sequential.predict_classes (from tensorflow.python.keras.engine.sequential) is deprecated and will be removed after 2021-01-01.\n",
            "Instructions for updating:\n",
            "Please use instead:* `np.argmax(model.predict(x), axis=-1)`,   if your model does multi-class classification   (e.g. if it uses a `softmax` last-layer activation).* `(model.predict(x) > 0.5).astype(\"int32\")`,   if your model does binary classification   (e.g. if it uses a `sigmoid` last-layer activation).\n"
          ],
          "name": "stdout"
        },
        {
          "output_type": "execute_result",
          "data": {
            "text/plain": [
              "array([9, 2, 1])"
            ]
          },
          "metadata": {
            "tags": []
          },
          "execution_count": 24
        }
      ]
    },
    {
      "cell_type": "code",
      "metadata": {
        "id": "k3VQP-inaJIc",
        "colab_type": "code",
        "colab": {
          "base_uri": "https://localhost:8080/",
          "height": 34
        },
        "outputId": "25c9e3ed-c3f5-496b-e73a-be7b2190c9b3"
      },
      "source": [
        "y_new = y_test[:3]\n",
        "y_new"
      ],
      "execution_count": 25,
      "outputs": [
        {
          "output_type": "execute_result",
          "data": {
            "text/plain": [
              "array([9, 2, 1], dtype=uint8)"
            ]
          },
          "metadata": {
            "tags": []
          },
          "execution_count": 25
        }
      ]
    },
    {
      "cell_type": "code",
      "metadata": {
        "id": "yUwgb89saUid",
        "colab_type": "code",
        "colab": {}
      },
      "source": [
        ""
      ],
      "execution_count": 25,
      "outputs": []
    }
  ]
}